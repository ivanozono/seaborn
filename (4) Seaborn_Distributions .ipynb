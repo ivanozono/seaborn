{
  "nbformat": 4,
  "nbformat_minor": 5,
  "metadata": {
    "noteable-chatgpt": {
      "create_notebook": {
        "openai_conversation_id": "843ec7f7-3c9b-5f19-95be-9b3f3544c406",
        "openai_ephemeral_user_id": "6a98fc6c-5005-5d2c-acb2-0a9a336e252d",
        "openai_subdivision1_iso_code": "MX-BCN"
      }
    },
    "noteable": {
      "last_transaction_id": "6e72015f-92c2-4bde-80e4-d9dbbfd98206"
    },
    "selected_hardware_size": "small"
  },
  "cells": [
    {
      "id": "811dab31-7eac-49bd-badf-cffe97b4f1ca",
      "cell_type": "markdown",
      "source": "# Matplotlib and Seaborn: Distributions\n\nIn this notebook, we will explore how to visualize data distributions using Matplotlib and Seaborn libraries in Python. Data distributions are a crucial aspect of data analysis as they help us understand how data is spread and identify patterns and outliers.\n\nWe will cover the following topics:\n\n1. Distributions in Seaborn\n2. Histograms\n3. Kernel Density Estimation (KDE)\n4. Box plots",
      "metadata": {
        "noteable": {
          "cell_type": "markdown"
        }
      }
    },
    {
      "id": "217d9b2d-5222-4068-a65e-bf7dca9b60ca",
      "cell_type": "code",
      "metadata": {
        "noteable": {
          "cell_type": "code",
          "output_collection_id": "ed0f4420-0fdd-43ad-9846-e5f6f9cb2ba0"
        },
        "ExecuteTime": {
          "end_time": "2023-06-29T06:09:29.531931+00:00",
          "start_time": "2023-06-29T06:09:28.619758+00:00"
        }
      },
      "execution_count": null,
      "source": "# First, let's import the necessary libraries\nimport seaborn as sns\nimport matplotlib.pyplot as plt",
      "outputs": []
    },
    {
      "id": "4e58d946-f4e5-4d7a-8150-06ee00e7f5a4",
      "cell_type": "markdown",
      "source": "## 1. Distributions in Seaborn\n\nSeaborn is a Python library that is used to enhance Matplotlib's visualization. Seaborn has a function called `distplot` that is used to visualize the distribution of a univariate set of observations.\n\nLet's load a dataset and visualize a distribution.",
      "metadata": {
        "noteable": {
          "cell_type": "markdown"
        }
      }
    },
    {
      "id": "f099d6d7-cfe3-46eb-8794-58ecd4389ae8",
      "cell_type": "code",
      "metadata": {
        "noteable": {
          "cell_type": "code",
          "output_collection_id": "a57fd43f-3eed-4600-99b0-10eb9f5771eb"
        },
        "ExecuteTime": {
          "end_time": "2023-06-29T06:09:37.069837+00:00",
          "start_time": "2023-06-29T06:09:36.110904+00:00"
        }
      },
      "execution_count": null,
      "source": "# Load the 'tips' dataset from seaborn\ndata = sns.load_dataset('tips')\n\n# Visualize the distribution of 'total_bill' column\nsns.distplot(data['total_bill'])\nplt.show()",
      "outputs": []
    },
    {
      "id": "9348e544-0728-449d-9f15-ddde67df4faa",
      "cell_type": "markdown",
      "source": "## 2. Histograms\n\nHistograms are a graphical representation of data that uses bars to display the frequency of numerical data. The data is divided into intervals (or bins), and the number of data points that fall into each interval is represented by a bar.\n\nIn the previous cell, the bars represent the histogram of the 'total_bill' column.",
      "metadata": {
        "noteable": {
          "cell_type": "markdown"
        }
      }
    },
    {
      "id": "3e01a638-6ca9-4b8d-afbc-1497f059ee9b",
      "cell_type": "markdown",
      "source": "## 3. Kernel Density Estimation (KDE)\n\nKernel Density Estimation (KDE) is a technique that allows smoothing a histogram to create a continuous curve. Seaborn incorporates this functionality in the `distplot` function.\n\nIn the previous cell, the curve represents the KDE of the 'total_bill' column.",
      "metadata": {
        "noteable": {
          "cell_type": "markdown"
        }
      }
    },
    {
      "id": "12f1817b-49e6-4777-a583-7dd35a126d6e",
      "cell_type": "markdown",
      "source": "## 4. Box plots\n\nBox plots are a way of graphically depicting groups of numerical data through their quartiles. In Seaborn, we can use the `boxplot` function.\n\nLet's create a box plot of the 'total_bill' column for each day in the 'tips' dataset.",
      "metadata": {
        "noteable": {
          "cell_type": "markdown"
        }
      }
    },
    {
      "id": "20a58919-de86-4a23-8cd3-122d00d4e191",
      "cell_type": "code",
      "metadata": {
        "noteable": {
          "cell_type": "code",
          "output_collection_id": "f647aa29-6858-4a00-8d6c-438db933d096"
        },
        "ExecuteTime": {
          "end_time": "2023-06-29T06:10:43.993660+00:00",
          "start_time": "2023-06-29T06:10:43.569642+00:00"
        }
      },
      "execution_count": null,
      "source": "sns.boxplot(x='day', y='total_bill', data=data)\nplt.show()",
      "outputs": []
    },
    {
      "id": "1c1a0eec-470f-409d-b461-a1e53fc53226",
      "cell_type": "markdown",
      "source": "## Conclusion\n\nVisualizing distributions is an essential part of data analysis. Matplotlib and Seaborn libraries in Python provide powerful functions for visualizing distributions, including histograms, KDE, and box plots. These visualizations help us better understand the data and make informed decisions based on the observed patterns and trends in the data.",
      "metadata": {
        "noteable": {
          "cell_type": "markdown"
        }
      }
    }
  ]
}