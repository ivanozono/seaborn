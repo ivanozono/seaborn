{
  "nbformat": 4,
  "nbformat_minor": 5,
  "metadata": {
    "noteable-chatgpt": {
      "create_notebook": {
        "openai_conversation_id": "60c4ba97-7661-5746-9d68-35b613367e4c",
        "openai_ephemeral_user_id": "86d58717-b2f6-5b4f-9daf-0c0838e69e50"
      }
    },
    "noteable": {
      "last_transaction_id": "bbe71f97-80b4-4746-add3-41650e7d4408"
    },
    "selected_hardware_size": "small"
  },
  "cells": [
    {
      "id": "ee966234-3486-421b-b80d-af4e49319652",
      "cell_type": "code",
      "metadata": {
        "noteable": {
          "cell_type": "code",
          "output_collection_id": "428f3af6-d5f4-4cfe-9c49-e0bdf13467f1"
        },
        "ExecuteTime": {
          "end_time": "2023-07-10T02:47:53.522281+00:00",
          "start_time": "2023-07-10T02:47:52.419253+00:00"
        },
        "datalink": {
          "06acc26a-2d0a-4f72-a996-2f6d1906f365": {
            "applied_filters": [],
            "dataframe_info": {
              "default_index_used": true,
              "orig_num_cols": 266,
              "orig_num_rows": 5,
              "orig_size_bytes": 10680,
              "truncated_num_cols": 100,
              "truncated_num_rows": 5,
              "truncated_size_bytes": 4040,
              "truncated_string_columns": []
            },
            "display_id": "06acc26a-2d0a-4f72-a996-2f6d1906f365",
            "dx_settings": {
              "ALLOW_NOTEABLE_ATTRS": true,
              "COLUMN_SAMPLING_METHOD": "outer",
              "DB_LOCATION": ":memory:",
              "DEV_MODE": false,
              "DISPLAY_MAX_COLUMNS": 100,
              "DISPLAY_MAX_ROWS": 50000,
              "DISPLAY_MODE": "simple",
              "ENABLE_ASSIGNMENT": true,
              "ENABLE_DATALINK": true,
              "FLATTEN_COLUMN_VALUES": true,
              "FLATTEN_INDEX_VALUES": false,
              "GENERATE_DEX_METADATA": false,
              "HTML_TABLE_SCHEMA": false,
              "LOG_LEVEL": 30,
              "MAX_RENDER_SIZE_BYTES": 104857600,
              "MAX_STRING_LENGTH": 250,
              "NUM_PAST_SAMPLES_TRACKED": 3,
              "RANDOM_STATE": 12648430,
              "RESET_INDEX_VALUES": false,
              "ROW_SAMPLING_METHOD": "random",
              "SAMPLING_FACTOR": 0.1,
              "SAMPLING_METHOD": "random",
              "STRINGIFY_COLUMN_VALUES": true,
              "STRINGIFY_INDEX_VALUES": false
            },
            "sample_history": [],
            "sampling_time": "2023-07-10T02:47:53.329700",
            "user_variable_name": null,
            "variable_name": "unk_dataframe_ad243e6068c44a0f8afc36905ac81de4"
          }
        }
      },
      "execution_count": null,
      "source": "# Import necessary libraries\nimport pandas as pd\nimport matplotlib.pyplot as plt\nimport seaborn as sns\n\n# Load the dataset\ndf = pd.read_csv('https://raw.githubusercontent.com/ivanozono/seaborn/main/states_all_extended.csv')\n\n# Display the first few rows of the DataFrame\ndf.head()",
      "outputs": []
    },
    {
      "id": "2ce89ae0-9e80-4e6d-8ea0-d55692d36a60",
      "cell_type": "code",
      "metadata": {
        "noteable": {
          "cell_type": "code",
          "output_collection_id": "185d149e-d858-4db0-b55f-9bd481b12199"
        },
        "ExecuteTime": {
          "end_time": "2023-07-10T02:48:36.027782+00:00",
          "start_time": "2023-07-10T02:48:35.856500+00:00"
        }
      },
      "execution_count": null,
      "source": "# Check the structure of the data\ndf.info()",
      "outputs": []
    },
    {
      "id": "7350059c-2b48-4e57-abd6-2c1df1adbcde",
      "cell_type": "code",
      "metadata": {
        "noteable": {
          "cell_type": "code",
          "output_collection_id": "dfe1ded8-8bd3-4aed-8220-c6397d586fbe"
        },
        "ExecuteTime": {
          "end_time": "2023-07-10T02:48:54.384877+00:00",
          "start_time": "2023-07-10T02:48:54.187099+00:00"
        },
        "datalink": {
          "a31382f8-67c2-4e6f-9e66-3786b923ab8d": {
            "applied_filters": [],
            "dataframe_info": {
              "default_index_used": false,
              "orig_num_cols": 1,
              "orig_num_rows": 266,
              "orig_size_bytes": 4256,
              "truncated_num_cols": 1,
              "truncated_num_rows": 266,
              "truncated_size_bytes": 4256,
              "truncated_string_columns": []
            },
            "display_id": "a31382f8-67c2-4e6f-9e66-3786b923ab8d",
            "dx_settings": {
              "ALLOW_NOTEABLE_ATTRS": true,
              "COLUMN_SAMPLING_METHOD": "outer",
              "DB_LOCATION": ":memory:",
              "DEV_MODE": false,
              "DISPLAY_MAX_COLUMNS": 100,
              "DISPLAY_MAX_ROWS": 50000,
              "DISPLAY_MODE": "simple",
              "ENABLE_ASSIGNMENT": true,
              "ENABLE_DATALINK": true,
              "FLATTEN_COLUMN_VALUES": true,
              "FLATTEN_INDEX_VALUES": false,
              "GENERATE_DEX_METADATA": false,
              "HTML_TABLE_SCHEMA": false,
              "LOG_LEVEL": 30,
              "MAX_RENDER_SIZE_BYTES": 104857600,
              "MAX_STRING_LENGTH": 250,
              "NUM_PAST_SAMPLES_TRACKED": 3,
              "RANDOM_STATE": 12648430,
              "RESET_INDEX_VALUES": false,
              "ROW_SAMPLING_METHOD": "random",
              "SAMPLING_FACTOR": 0.1,
              "SAMPLING_METHOD": "random",
              "STRINGIFY_COLUMN_VALUES": true,
              "STRINGIFY_INDEX_VALUES": false
            },
            "sample_history": [],
            "sampling_time": "2023-07-10T02:48:54.225325",
            "user_variable_name": null,
            "variable_name": "unk_dataframe_24179f78e4d342339602df7ad7535fa6"
          }
        }
      },
      "execution_count": null,
      "source": "# Check for missing values\ndf.isnull().sum()",
      "outputs": []
    },
    {
      "id": "995e5d49-20ad-406e-8fa4-90ca5d5c26ca",
      "cell_type": "code",
      "metadata": {
        "noteable": {
          "cell_type": "code",
          "output_collection_id": "de954cc9-4fd7-4b75-9762-ddd1a598e9e7"
        },
        "ExecuteTime": {
          "end_time": "2023-07-10T02:49:31.184238+00:00",
          "start_time": "2023-07-10T02:49:30.878078+00:00"
        },
        "datalink": {
          "b9ff0d5d-3d50-4f18-ba33-9add60c1595a": {
            "applied_filters": [],
            "dataframe_info": {
              "default_index_used": false,
              "orig_num_cols": 1,
              "orig_num_rows": 266,
              "orig_size_bytes": 4256,
              "truncated_num_cols": 1,
              "truncated_num_rows": 266,
              "truncated_size_bytes": 4256,
              "truncated_string_columns": []
            },
            "display_id": "b9ff0d5d-3d50-4f18-ba33-9add60c1595a",
            "dx_settings": {
              "ALLOW_NOTEABLE_ATTRS": true,
              "COLUMN_SAMPLING_METHOD": "outer",
              "DB_LOCATION": ":memory:",
              "DEV_MODE": false,
              "DISPLAY_MAX_COLUMNS": 100,
              "DISPLAY_MAX_ROWS": 50000,
              "DISPLAY_MODE": "simple",
              "ENABLE_ASSIGNMENT": true,
              "ENABLE_DATALINK": true,
              "FLATTEN_COLUMN_VALUES": true,
              "FLATTEN_INDEX_VALUES": false,
              "GENERATE_DEX_METADATA": false,
              "HTML_TABLE_SCHEMA": false,
              "LOG_LEVEL": 30,
              "MAX_RENDER_SIZE_BYTES": 104857600,
              "MAX_STRING_LENGTH": 250,
              "NUM_PAST_SAMPLES_TRACKED": 3,
              "RANDOM_STATE": 12648430,
              "RESET_INDEX_VALUES": false,
              "ROW_SAMPLING_METHOD": "random",
              "SAMPLING_FACTOR": 0.1,
              "SAMPLING_METHOD": "random",
              "STRINGIFY_COLUMN_VALUES": true,
              "STRINGIFY_INDEX_VALUES": false
            },
            "sample_history": [],
            "sampling_time": "2023-07-10T02:49:31.027670",
            "user_variable_name": null,
            "variable_name": "unk_dataframe_733af191865c4f6fbcd6913f0bd1b3b9"
          }
        }
      },
      "execution_count": null,
      "source": "# Impute missing values with mean\ndf.fillna(df.mean(), inplace=True)\n\n# Check again for missing values\ndf.isnull().sum()",
      "outputs": []
    },
    {
      "id": "5dde85b6-09c8-4e9b-acc7-ee54dc2f0388",
      "cell_type": "code",
      "metadata": {
        "noteable": {
          "cell_type": "code",
          "output_collection_id": "952622b0-62f3-499a-a053-00e6586ef54d"
        },
        "ExecuteTime": {
          "end_time": "2023-07-10T02:49:54.480823+00:00",
          "start_time": "2023-07-10T02:49:53.117077+00:00"
        },
        "datalink": {
          "fd0345af-d1dc-4479-a160-810e045ca73b": {
            "applied_filters": [],
            "dataframe_info": {
              "default_index_used": false,
              "orig_num_cols": 264,
              "orig_num_rows": 8,
              "orig_size_bytes": 16960,
              "truncated_num_cols": 100,
              "truncated_num_rows": 8,
              "truncated_size_bytes": 6464,
              "truncated_string_columns": []
            },
            "display_id": "fd0345af-d1dc-4479-a160-810e045ca73b",
            "dx_settings": {
              "ALLOW_NOTEABLE_ATTRS": true,
              "COLUMN_SAMPLING_METHOD": "outer",
              "DB_LOCATION": ":memory:",
              "DEV_MODE": false,
              "DISPLAY_MAX_COLUMNS": 100,
              "DISPLAY_MAX_ROWS": 50000,
              "DISPLAY_MODE": "simple",
              "ENABLE_ASSIGNMENT": true,
              "ENABLE_DATALINK": true,
              "FLATTEN_COLUMN_VALUES": true,
              "FLATTEN_INDEX_VALUES": false,
              "GENERATE_DEX_METADATA": false,
              "HTML_TABLE_SCHEMA": false,
              "LOG_LEVEL": 30,
              "MAX_RENDER_SIZE_BYTES": 104857600,
              "MAX_STRING_LENGTH": 250,
              "NUM_PAST_SAMPLES_TRACKED": 3,
              "RANDOM_STATE": 12648430,
              "RESET_INDEX_VALUES": false,
              "ROW_SAMPLING_METHOD": "random",
              "SAMPLING_FACTOR": 0.1,
              "SAMPLING_METHOD": "random",
              "STRINGIFY_COLUMN_VALUES": true,
              "STRINGIFY_INDEX_VALUES": false
            },
            "sample_history": [],
            "sampling_time": "2023-07-10T02:49:54.286588",
            "user_variable_name": null,
            "variable_name": "unk_dataframe_346f44ca6da8454083743ab73bc748c2"
          }
        }
      },
      "execution_count": null,
      "source": "# Get descriptive statistics for numerical columns\ndf.describe()",
      "outputs": []
    },
    {
      "id": "96c882e9-ae59-4a76-9935-26ae8a306fc0",
      "cell_type": "code",
      "metadata": {
        "noteable": {
          "cell_type": "code",
          "output_collection_id": "fdbaceb8-71e2-451b-b5c3-63e1f37a5b85"
        },
        "ExecuteTime": {
          "end_time": "2023-07-10T02:50:39.701249+00:00",
          "start_time": "2023-07-10T02:50:37.467567+00:00"
        }
      },
      "execution_count": null,
      "source": "# Create a correlation matrix\ncorr = df.corr()\n\n# Generate a mask for the upper triangle\nmask = np.triu(np.ones_like(corr, dtype=bool))\n\n# Set up the matplotlib figure\nf, ax = plt.subplots(figsize=(11, 9))\n\n# Generate a custom diverging colormap\ncmap = sns.diverging_palette(230, 20, as_cmap=True)\n\n# Draw the heatmap with the mask and correct aspect ratio\nsns.heatmap(corr, mask=mask, cmap=cmap, vmax=.3, center=0,\n            square=True, linewidths=.5, cbar_kws={\"shrink\": .5})",
      "outputs": []
    },
    {
      "id": "b317fd2d-7ea5-40b0-9179-baa14d0904d6",
      "cell_type": "code",
      "metadata": {
        "noteable": {
          "cell_type": "code",
          "output_collection_id": "44899f53-cfd7-4f5d-b85a-be9e5e2d010f"
        },
        "ExecuteTime": {
          "end_time": "2023-07-10T02:51:11.326024+00:00",
          "start_time": "2023-07-10T02:51:10.866117+00:00"
        }
      },
      "execution_count": null,
      "source": "# Create a scatter plot for TOTAL_REVENUE and TOTAL_EXPENDITURE\nplt.figure(figsize=(10, 6))\nsns.scatterplot(x='TOTAL_REVENUE', y='TOTAL_EXPENDITURE', data=df)\nplt.title('Total Revenue vs Total Expenditure')\nplt.xlabel('Total Revenue')\nplt.ylabel('Total Expenditure')\nplt.show()",
      "outputs": []
    },
    {
      "id": "2c8f8f6d-b0d6-4f17-ac0e-1f3d9bd3f453",
      "cell_type": "code",
      "metadata": {
        "noteable": {
          "cell_type": "code",
          "output_collection_id": "38a8b699-f538-422b-9961-34d654ad0cbe"
        },
        "ExecuteTime": {
          "end_time": "2023-07-10T02:51:43.400321+00:00",
          "start_time": "2023-07-10T02:51:42.893416+00:00"
        }
      },
      "execution_count": null,
      "source": "# Create a histogram for TOTAL_REVENUE\nplt.figure(figsize=(10, 6))\nsns.histplot(df['TOTAL_REVENUE'], bins=50, kde=True)\nplt.title('Distribution of Total Revenue')\nplt.xlabel('Total Revenue')\nplt.ylabel('Frequency')\nplt.show()",
      "outputs": []
    },
    {
      "id": "df514f20-e7df-45c1-9177-7cb0dea917a3",
      "cell_type": "code",
      "metadata": {
        "noteable": {
          "cell_type": "code",
          "output_collection_id": "9da563a6-6bae-4834-ae32-ffd781b99ca3"
        },
        "ExecuteTime": {
          "end_time": "2023-07-10T02:52:17.615279+00:00",
          "start_time": "2023-07-10T02:52:17.261234+00:00"
        }
      },
      "execution_count": null,
      "source": "# Create a box plot for TOTAL_REVENUE\nplt.figure(figsize=(10, 6))\nsns.boxplot(x=df['TOTAL_REVENUE'])\nplt.title('Box Plot of Total Revenue')\nplt.xlabel('Total Revenue')\nplt.show()",
      "outputs": []
    },
    {
      "id": "a4ae39e6-893f-4f3b-a6e7-059d80e8521d",
      "cell_type": "code",
      "metadata": {
        "noteable": {
          "cell_type": "code",
          "output_collection_id": "c90316ff-f4ce-4f52-840d-98594106d12d"
        },
        "ExecuteTime": {
          "end_time": "2023-07-10T02:55:54.470264+00:00",
          "start_time": "2023-07-10T02:55:46.871803+00:00"
        }
      },
      "execution_count": null,
      "source": "# Create a pair plot for a subset of variables\nsubset = df[['TOTAL_REVENUE', 'FEDERAL_REVENUE', 'STATE_REVENUE', 'LOCAL_REVENUE', 'TOTAL_EXPENDITURE']]\nsns.pairplot(subset)",
      "outputs": []
    },
    {
      "id": "4c5c1b70-0cd3-4d74-9cee-b03ee521228c",
      "cell_type": "code",
      "metadata": {
        "noteable": {
          "cell_type": "code",
          "output_collection_id": "a19a62dc-5997-4380-9e6d-da6b80a29365"
        },
        "ExecuteTime": {
          "end_time": "2023-07-10T02:56:30.630966+00:00",
          "start_time": "2023-07-10T02:56:27.861149+00:00"
        }
      },
      "execution_count": null,
      "source": "# Create a line plot for TOTAL_REVENUE and TOTAL_EXPENDITURE over time\nplt.figure(figsize=(14, 8))\nsns.lineplot(x='YEAR', y='TOTAL_REVENUE', data=df, label='Total Revenue')\nsns.lineplot(x='YEAR', y='TOTAL_EXPENDITURE', data=df, label='Total Expenditure')\nplt.title('Total Revenue and Total Expenditure Over Time')\nplt.xlabel('Year')\nplt.ylabel('Amount')\nplt.legend()\nplt.show()",
      "outputs": []
    },
    {
      "id": "a6bf1d9e-fb7a-41ea-b122-28180da5d0a2",
      "cell_type": "code",
      "metadata": {
        "noteable": {
          "cell_type": "code",
          "output_collection_id": "59e5c2c2-08e3-4c82-a2bc-6bcfe85f87ca"
        },
        "ExecuteTime": {
          "end_time": "2023-07-10T02:57:09.960959+00:00",
          "start_time": "2023-07-10T02:57:08.924416+00:00"
        }
      },
      "execution_count": null,
      "source": "# Filter the data for the most recent year\nrecent_data = df[df['YEAR'] == df['YEAR'].max()]\n\n# Calculate the total revenue and total expenditure for each state\nstate_data = recent_data.groupby('STATE')[['TOTAL_REVENUE', 'TOTAL_EXPENDITURE']].sum().reset_index()\n\n# Sort the data by total revenue\nstate_data.sort_values('TOTAL_REVENUE', ascending=False, inplace=True)\n\n# Create a bar plot for total revenue and total expenditure for each state\nstate_data.plot(x='STATE', y=['TOTAL_REVENUE', 'TOTAL_EXPENDITURE'], kind='bar', figsize=(14, 8))\nplt.title('Total Revenue and Total Expenditure for Each State')\nplt.xlabel('State')\nplt.ylabel('Amount')\nplt.xticks(rotation=90)\nplt.show()",
      "outputs": []
    },
    {
      "id": "9d57c3f0-7f3d-460a-b60f-1f5eacc315b3",
      "cell_type": "code",
      "metadata": {
        "noteable": {
          "cell_type": "code",
          "output_collection_id": "d183e738-5970-44d9-8968-9f54fde5192e"
        },
        "ExecuteTime": {
          "end_time": "2023-07-10T02:59:06.477265+00:00",
          "start_time": "2023-07-10T02:59:05.825605+00:00"
        }
      },
      "execution_count": null,
      "source": "# Select variables\nselected_variables = ['TOTAL_REVENUE', 'FEDERAL_REVENUE', 'STATE_REVENUE', 'LOCAL_REVENUE', 'TOTAL_EXPENDITURE', 'INSTRUCTION_EXPENDITURE']\n\n# Create a correlation matrix for the selected variables\ncorr_selected = df[selected_variables].corr()\n\n# Create a heatmap\nplt.figure(figsize=(10, 8))\nsns.heatmap(corr_selected, annot=True, cmap='coolwarm')\nplt.title('Heatmap of Correlation Between Selected Variables')\nplt.show()",
      "outputs": []
    },
    {
      "id": "a80c3d66-7bb0-48ea-87cd-fe2d65ed0f04",
      "cell_type": "code",
      "metadata": {
        "noteable": {
          "cell_type": "code",
          "output_collection_id": "7383c696-cc76-4e7e-96c4-09431e2e408b"
        },
        "ExecuteTime": {
          "end_time": "2023-07-10T02:59:45.171627+00:00",
          "start_time": "2023-07-10T02:59:33.626309+00:00"
        }
      },
      "execution_count": null,
      "source": "# Create scatter plots for pairs of variables with the strongest correlations\nsns.pairplot(df[selected_variables])",
      "outputs": []
    },
    {
      "id": "e4346d1e-cf69-4dca-ace9-c1e88bf84400",
      "cell_type": "code",
      "metadata": {
        "noteable": {
          "cell_type": "code",
          "output_collection_id": "e80eb65b-011a-4ef0-aad9-7dde35d02761"
        },
        "ExecuteTime": {
          "end_time": "2023-07-10T03:01:07.157333+00:00",
          "start_time": "2023-07-10T03:01:06.957258+00:00"
        },
        "datalink": {
          "168346ee-aa4c-43fb-972a-7950f66a5d54": {
            "applied_filters": [],
            "dataframe_info": {
              "default_index_used": true,
              "orig_num_cols": 1,
              "orig_num_rows": 5,
              "orig_size_bytes": 80,
              "truncated_num_cols": 1,
              "truncated_num_rows": 5,
              "truncated_size_bytes": 80,
              "truncated_string_columns": []
            },
            "display_id": "168346ee-aa4c-43fb-972a-7950f66a5d54",
            "dx_settings": {
              "ALLOW_NOTEABLE_ATTRS": true,
              "COLUMN_SAMPLING_METHOD": "outer",
              "DB_LOCATION": ":memory:",
              "DEV_MODE": false,
              "DISPLAY_MAX_COLUMNS": 100,
              "DISPLAY_MAX_ROWS": 50000,
              "DISPLAY_MODE": "simple",
              "ENABLE_ASSIGNMENT": true,
              "ENABLE_DATALINK": true,
              "FLATTEN_COLUMN_VALUES": true,
              "FLATTEN_INDEX_VALUES": false,
              "GENERATE_DEX_METADATA": false,
              "HTML_TABLE_SCHEMA": false,
              "LOG_LEVEL": 30,
              "MAX_RENDER_SIZE_BYTES": 104857600,
              "MAX_STRING_LENGTH": 250,
              "NUM_PAST_SAMPLES_TRACKED": 3,
              "RANDOM_STATE": 12648430,
              "RESET_INDEX_VALUES": false,
              "ROW_SAMPLING_METHOD": "random",
              "SAMPLING_FACTOR": 0.1,
              "SAMPLING_METHOD": "random",
              "STRINGIFY_COLUMN_VALUES": true,
              "STRINGIFY_INDEX_VALUES": false
            },
            "sample_history": [],
            "sampling_time": "2023-07-10T03:01:06.999708",
            "user_variable_name": null,
            "variable_name": "unk_dataframe_ccc237639349434ba3d8a85e33d144d6"
          }
        }
      },
      "execution_count": null,
      "source": "# Identify the top 5 states with the highest total revenue in the most recent year\ntop_states = recent_data.nlargest(5, 'TOTAL_REVENUE')['STATE']\ntop_states",
      "outputs": []
    },
    {
      "id": "e1821662-1e29-4d2c-b3be-fb0cce48bf22",
      "cell_type": "code",
      "metadata": {
        "noteable": {
          "cell_type": "code",
          "output_collection_id": "aad565f9-ebf6-4319-9527-505129f0281c"
        },
        "ExecuteTime": {
          "end_time": "2023-07-10T03:01:33.271381+00:00",
          "start_time": "2023-07-10T03:01:32.734059+00:00"
        }
      },
      "execution_count": null,
      "source": "# Filter the data for the top states\ntop_states_data = recent_data[recent_data['STATE'].isin(top_states)]\n\n# Create a stacked bar plot for expenditure categories\ntop_states_data.plot(x='STATE', y=['INSTRUCTION_EXPENDITURE', 'SUPPORT_SERVICES_EXPENDITURE', 'OTHER_EXPENDITURE'], kind='bar', stacked=True, figsize=(10, 6))\nplt.title('Expenditure Patterns of Top States')\nplt.xlabel('State')\nplt.ylabel('Expenditure')\nplt.show()",
      "outputs": []
    },
    {
      "id": "66b71b88-cd7f-4006-b518-84f9fe0d52cd",
      "cell_type": "code",
      "metadata": {
        "noteable": {
          "cell_type": "code",
          "output_collection_id": "6662e78d-13e5-4253-8f62-3443fc393b64"
        },
        "ExecuteTime": {
          "end_time": "2023-07-10T03:02:47.872716+00:00",
          "start_time": "2023-07-10T03:02:47.308777+00:00"
        }
      },
      "execution_count": null,
      "source": "# Filter the data for the top states\ntop_states_data = df[df['STATE'].isin(top_states)]\n\n# Create line plots for total expenditure over time\nplt.figure(figsize=(14, 8))\nfor state in top_states:\n    state_data = top_states_data[top_states_data['STATE'] == state]\n    plt.plot(state_data['YEAR'], state_data['TOTAL_EXPENDITURE'], label=state)\nplt.title('Total Expenditure Over Time for Top States')\nplt.xlabel('Year')\nplt.ylabel('Total Expenditure')\nplt.legend()\nplt.show()",
      "outputs": []
    },
    {
      "id": "817d49d3-c7e0-41c7-a186-f0411c0d70c3",
      "cell_type": "code",
      "metadata": {
        "noteable": {
          "cell_type": "code",
          "output_collection_id": "98bc554b-bc0e-49b8-8931-67b29457420d"
        },
        "ExecuteTime": {
          "end_time": "2023-07-10T03:03:22.605283+00:00",
          "start_time": "2023-07-10T03:03:21.275035+00:00"
        }
      },
      "execution_count": null,
      "source": "# Create line plots for expenditure categories over time\nexpenditure_categories = ['INSTRUCTION_EXPENDITURE', 'SUPPORT_SERVICES_EXPENDITURE', 'OTHER_EXPENDITURE']\nfor category in expenditure_categories:\n    plt.figure(figsize=(14, 8))\n    for state in top_states:\n        state_data = top_states_data[top_states_data['STATE'] == state]\n        plt.plot(state_data['YEAR'], state_data[category], label=state)\n    plt.title(category + ' Over Time for Top States')\n    plt.xlabel('Year')\n    plt.ylabel(category)\n    plt.legend()\n    plt.show()",
      "outputs": []
    }
  ]
}