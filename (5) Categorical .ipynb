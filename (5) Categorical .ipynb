{
  "nbformat": 4,
  "nbformat_minor": 5,
  "metadata": {
    "noteable-chatgpt": {
      "create_notebook": {
        "openai_conversation_id": "843ec7f7-3c9b-5f19-95be-9b3f3544c406",
        "openai_ephemeral_user_id": "6a98fc6c-5005-5d2c-acb2-0a9a336e252d",
        "openai_subdivision1_iso_code": "MX-BCN"
      }
    },
    "noteable": {
      "last_transaction_id": "795a5b15-69e0-4151-89cb-299da9fa7395"
    },
    "selected_hardware_size": "small"
  },
  "cells": [
    {
      "id": "5737c944-ebb6-4a88-b0ee-a6662e6041dd",
      "cell_type": "markdown",
      "source": "Python code that uses the seaborn and matplotlib libraries to load a dataset called 'tips' and display the first two rows of that dataset.\n\n- seaborn: is a data visualization library in Python that is built on top of matplotlib. It provides a high-level interface for creating attractive and informative statistical graphics.\n- matplotlib: is a plotting library in Python that is used to create static, animated, and interactive visualizations in Python.\n- tips: is a dataset found in seaborn and contains information about tips in a restaurant, such as total bill amount, customer's gender, day of the week, etc.\n",
      "metadata": {
        "noteable": {
          "cell_type": "markdown"
        }
      }
    },
    {
      "id": "e8154316-8037-41b4-abdc-5247085ff45e",
      "cell_type": "code",
      "metadata": {
        "noteable": {
          "cell_type": "code",
          "output_collection_id": "1ee8519f-24ff-43b9-976b-304d752f243d"
        },
        "ExecuteTime": {
          "end_time": "2023-06-29T06:27:41.459425+00:00",
          "start_time": "2023-06-29T06:27:41.243744+00:00"
        },
        "datalink": {
          "8425ebe1-5994-4d6d-8206-2ef571f9219c": {
            "applied_filters": [],
            "dataframe_info": {
              "default_index_used": true,
              "orig_num_cols": 7,
              "orig_num_rows": 2,
              "orig_size_bytes": 648,
              "truncated_num_cols": 7,
              "truncated_num_rows": 2,
              "truncated_size_bytes": 648,
              "truncated_string_columns": []
            },
            "display_id": "8425ebe1-5994-4d6d-8206-2ef571f9219c",
            "dx_settings": {
              "ALLOW_NOTEABLE_ATTRS": true,
              "COLUMN_SAMPLING_METHOD": "outer",
              "DB_LOCATION": ":memory:",
              "DEV_MODE": false,
              "DISPLAY_MAX_COLUMNS": 100,
              "DISPLAY_MAX_ROWS": 50000,
              "DISPLAY_MODE": "simple",
              "ENABLE_ASSIGNMENT": true,
              "ENABLE_DATALINK": true,
              "FLATTEN_COLUMN_VALUES": true,
              "FLATTEN_INDEX_VALUES": false,
              "GENERATE_DEX_METADATA": false,
              "HTML_TABLE_SCHEMA": false,
              "LOG_LEVEL": 30,
              "MAX_RENDER_SIZE_BYTES": 104857600,
              "MAX_STRING_LENGTH": 250,
              "NUM_PAST_SAMPLES_TRACKED": 3,
              "RANDOM_STATE": 12648430,
              "RESET_INDEX_VALUES": false,
              "ROW_SAMPLING_METHOD": "random",
              "SAMPLING_FACTOR": 0.1,
              "SAMPLING_METHOD": "random",
              "STRINGIFY_COLUMN_VALUES": true,
              "STRINGIFY_INDEX_VALUES": false
            },
            "sample_history": [],
            "sampling_time": "2023-06-29T06:17:43.728490",
            "user_variable_name": null,
            "variable_name": "unk_dataframe_058acd9bfa62420998a2f73c823ec5b7"
          },
          "204c2b53-d8e2-44d3-804b-b26544b37958": {
            "applied_filters": [],
            "dataframe_info": {
              "default_index_used": true,
              "orig_num_cols": 7,
              "orig_num_rows": 2,
              "orig_size_bytes": 648,
              "truncated_num_cols": 7,
              "truncated_num_rows": 2,
              "truncated_size_bytes": 648,
              "truncated_string_columns": []
            },
            "display_id": "204c2b53-d8e2-44d3-804b-b26544b37958",
            "dx_settings": {
              "ALLOW_NOTEABLE_ATTRS": true,
              "COLUMN_SAMPLING_METHOD": "outer",
              "DB_LOCATION": ":memory:",
              "DEV_MODE": false,
              "DISPLAY_MAX_COLUMNS": 100,
              "DISPLAY_MAX_ROWS": 50000,
              "DISPLAY_MODE": "simple",
              "ENABLE_ASSIGNMENT": true,
              "ENABLE_DATALINK": true,
              "FLATTEN_COLUMN_VALUES": true,
              "FLATTEN_INDEX_VALUES": false,
              "GENERATE_DEX_METADATA": false,
              "HTML_TABLE_SCHEMA": false,
              "LOG_LEVEL": 30,
              "MAX_RENDER_SIZE_BYTES": 104857600,
              "MAX_STRING_LENGTH": 250,
              "NUM_PAST_SAMPLES_TRACKED": 3,
              "RANDOM_STATE": 12648430,
              "RESET_INDEX_VALUES": false,
              "ROW_SAMPLING_METHOD": "random",
              "SAMPLING_FACTOR": 0.1,
              "SAMPLING_METHOD": "random",
              "STRINGIFY_COLUMN_VALUES": true,
              "STRINGIFY_INDEX_VALUES": false
            },
            "sample_history": [],
            "sampling_time": "2023-06-29T06:27:41.300207",
            "user_variable_name": null,
            "variable_name": "unk_dataframe_dcd8eb9841e141c583c89711516e4555"
          }
        }
      },
      "execution_count": null,
      "source": "import seaborn as sns\nimport matplotlib.pyplot as plt\ntips = sns.load_dataset('tips')\ntips.head(2)",
      "outputs": []
    },
    {
      "id": "13ed4bee-59ba-463c-80fc-f2f7fbf8d58b",
      "cell_type": "markdown",
      "source": "Seaborn library in Python to create a bar plot that shows the count of tips by day of the week and gender of the tipper. The \"data\" parameter indicates that the \"tips\" dataset will be used. The \"x\" parameter indicates that the day of the week will be plotted on the horizontal axis. The \"hue\" parameter indicates that gender will be used as an additional variable and will be displayed with different colors in the bars. The \"countplot\" function counts the number of observations for each combination of day and gender values and plots them in the graph.",
      "metadata": {
        "noteable": {
          "cell_type": "markdown"
        }
      }
    },
    {
      "id": "eceb94dc-c695-4431-920e-6af478abcf04",
      "cell_type": "code",
      "metadata": {
        "noteable": {
          "cell_type": "code",
          "output_collection_id": "ad020681-2440-4fb0-b5e5-39b6173a5b3d"
        },
        "ExecuteTime": {
          "end_time": "2023-06-29T06:27:45.537521+00:00",
          "start_time": "2023-06-29T06:27:45.070707+00:00"
        }
      },
      "execution_count": null,
      "source": "sns.countplot(data = tips, x= 'day', hue='sex');",
      "outputs": []
    },
    {
      "id": "7167942f-592d-4189-bfb5-f792c368d0f9",
      "cell_type": "markdown",
      "source": "Seaborn library to create a swarmplot. The plot shows the distribution of total bill amounts by day of the week, and is differentiated by gender. The parameter dodge=True is used to separate overlapping points.",
      "metadata": {
        "noteable": {
          "cell_type": "markdown"
        }
      }
    },
    {
      "id": "6f884cd7-1f0a-40ef-9fbe-35b1bedb5369",
      "cell_type": "code",
      "metadata": {
        "noteable": {
          "cell_type": "code",
          "output_collection_id": "0c123e9a-d7e0-4b9e-94df-afe0dd68a227"
        },
        "ExecuteTime": {
          "end_time": "2023-06-29T06:27:50.479198+00:00",
          "start_time": "2023-06-29T06:27:49.512868+00:00"
        }
      },
      "execution_count": null,
      "source": "sns.swarmplot(data= tips, x= 'day', y = 'total_bill', hue= 'sex', dodge=True);",
      "outputs": []
    },
    {
      "id": "44d96a19-287e-48d7-9406-6a469338fb98",
      "cell_type": "markdown",
      "source": "Seaborn library to create a boxplot chart from a dataset called \"tips\". The x-axis of the chart represents the days of the week and the y-axis represents the total bill at a restaurant. Additionally, the \"hue\" parameter is used to differentiate between males and females in the chart. The \"dodge\" parameter is used to separate the boxes corresponding to each gender.",
      "metadata": {
        "noteable": {
          "cell_type": "markdown"
        }
      }
    },
    {
      "id": "32671ece-0161-4ef1-bcaf-d2520364a698",
      "cell_type": "code",
      "metadata": {
        "noteable": {
          "cell_type": "code",
          "output_collection_id": "a77cb0e1-3fd0-4dcb-8b28-27761809bf23"
        },
        "ExecuteTime": {
          "end_time": "2023-06-29T06:28:21.129432+00:00",
          "start_time": "2023-06-29T06:28:20.415649+00:00"
        }
      },
      "execution_count": null,
      "source": "sns.boxplot(data= tips, x= 'day', y = 'total_bill', hue= 'sex', dodge=True);",
      "outputs": []
    },
    {
      "id": "0e3aa56f-46e1-4226-9f90-9889120d25ee",
      "cell_type": "markdown",
      "source": "Seaborn library to visualize a violin plot. The violin plot shows the distribution of data for different categories. In this case, the data is from the \"tips\" dataset and is visualizing the distribution of the total bill (total_bill) by day of the week (day) and separated by gender (sex) using the \"split\" option to show each gender on one side of the plot.",
      "metadata": {
        "noteable": {
          "cell_type": "markdown"
        }
      }
    },
    {
      "id": "512b6262-7844-445a-bce2-ccc86d4df861",
      "cell_type": "code",
      "metadata": {
        "noteable": {
          "cell_type": "code",
          "output_collection_id": "3d76e6e2-a7a3-412d-bdd5-95a2dfd8559a"
        },
        "ExecuteTime": {
          "end_time": "2023-06-29T06:28:25.413621+00:00",
          "start_time": "2023-06-29T06:28:24.852820+00:00"
        }
      },
      "execution_count": null,
      "source": "sns.violinplot(data= tips, x= 'day', y = 'total_bill', hue= 'sex', split=True);",
      "outputs": []
    },
    {
      "id": "93170cc2-9ccc-48e6-9fa7-c37377d4f2f4",
      "cell_type": "markdown",
      "source": "The code displays a boxplot using the Seaborn library (sns) in Python. The data used is from the \"tips\" dataset. The x-axis represents the day of the week, the y-axis represents the total bill, and different colors are used to represent male and female customers. The \"dodge\" parameter is used to separate the boxplots of each gender. The \"kind\" parameter is used to specify the type of plot, in this case, a boxplot. The \"col\" parameter is used to create subplots based on the time of day (lunch or dinner).\n",
      "metadata": {
        "noteable": {
          "cell_type": "markdown"
        }
      }
    },
    {
      "id": "704d1bb3-baa9-48df-8abe-b446b540faf7",
      "cell_type": "code",
      "metadata": {
        "noteable": {
          "cell_type": "code",
          "output_collection_id": "703b9540-642d-4a1f-af74-4ccfee20b223"
        },
        "ExecuteTime": {
          "end_time": "2023-06-29T06:28:30.991262+00:00",
          "start_time": "2023-06-29T06:28:29.967692+00:00"
        }
      },
      "execution_count": null,
      "source": "sns.catplot(data= tips, x= 'day', y = 'total_bill', hue= 'sex', dodge=True, kind= 'box', col= 'time');",
      "outputs": []
    }
  ]
}