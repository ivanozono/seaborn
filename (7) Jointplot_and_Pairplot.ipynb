{
  "nbformat": 4,
  "nbformat_minor": 5,
  "metadata": {
    "noteable-chatgpt": {
      "create_notebook": {
        "openai_conversation_id": "843ec7f7-3c9b-5f19-95be-9b3f3544c406",
        "openai_ephemeral_user_id": "e001c02d-05bc-535a-9688-1ad5db334e1e",
        "openai_subdivision1_iso_code": "MX-BCN"
      }
    },
    "noteable": {
      "last_transaction_id": "597d8e51-d24a-4fc9-955c-1a1b94bcedf0"
    },
    "selected_hardware_size": "small"
  },
  "cells": [
    {
      "id": "1d980dd4-a842-490d-90f3-ec95a53a19cb",
      "cell_type": "markdown",
      "source": "# Jointplot and Pairplot\n\nIn this notebook, we'll explore two powerful functionalities of the Seaborn library: Jointplot and Pairplot. These tools allow us to generate various types of plots with a single command, providing a comprehensive overview of our data and its numerical relationships.\n\n## Table of Contents\n\n1. [Introduction](#section1)\n2. [Jointplot](#section2)\n3. [Pairplot](#section3)\n4. [Conclusion](#section4)\n\n<a id='section1'></a>\n## 1. Introduction\n\nData visualization is a critical component of data analysis. It allows us to understand the underlying patterns and relationships within our data, which can often be complex and multidimensional. Seaborn, a Python data visualization library based on Matplotlib, provides a high-level interface for drawing attractive and informative statistical graphics. Among its functionalities, Jointplot and Pairplot stand out for their ability to generate multiple plots simultaneously, offering a comprehensive view of the data.\n\n<a id='section2'></a>\n## 2. Jointplot\n\nJointplot is a function that combines two different plots into one. For instance, you can have a scatter plot in the center and the histograms of each variable on the axes. Let's see how to use it in practice.\n\n<a id='section3'></a>\n## 3. Pairplot\n\nPairplot is a function that correlates all the numerical variables in the dataset. It's useful for getting a general view of your data and its numerical relationship. Let's see how to use it in practice.\n\n<a id='section4'></a>\n## 4. Conclusion\n\nJointplot and Pairplot are powerful tools for data visualization in Python using the Seaborn library. They allow us to generate various types of plots with a single command, facilitating the exploration and analysis of data. By customizing the parameters of these functions, we can adapt the plots to our specific needs and get a more detailed view of our data.",
      "metadata": {
        "noteable": {
          "cell_type": "markdown"
        }
      }
    },
    {
      "id": "9ebae67b-96ef-4853-a746-b48806b7130e",
      "cell_type": "code",
      "metadata": {
        "noteable": {
          "cell_type": "code",
          "output_collection_id": "b4171177-79c5-4691-bfcf-d9815bb33624"
        },
        "ExecuteTime": {
          "end_time": "2023-07-01T00:16:33.755665+00:00",
          "start_time": "2023-07-01T00:16:33.536858+00:00"
        },
        "datalink": {
          "a01e7de4-371b-47ee-bea3-234b65138b30": {
            "applied_filters": [],
            "dataframe_info": {
              "default_index_used": true,
              "orig_num_cols": 7,
              "orig_num_rows": 5,
              "orig_size_bytes": 756,
              "truncated_num_cols": 7,
              "truncated_num_rows": 5,
              "truncated_size_bytes": 756,
              "truncated_string_columns": []
            },
            "display_id": "a01e7de4-371b-47ee-bea3-234b65138b30",
            "dx_settings": {
              "ALLOW_NOTEABLE_ATTRS": true,
              "COLUMN_SAMPLING_METHOD": "outer",
              "DB_LOCATION": ":memory:",
              "DEV_MODE": false,
              "DISPLAY_MAX_COLUMNS": 100,
              "DISPLAY_MAX_ROWS": 50000,
              "DISPLAY_MODE": "simple",
              "ENABLE_ASSIGNMENT": true,
              "ENABLE_DATALINK": true,
              "FLATTEN_COLUMN_VALUES": true,
              "FLATTEN_INDEX_VALUES": false,
              "GENERATE_DEX_METADATA": false,
              "HTML_TABLE_SCHEMA": false,
              "LOG_LEVEL": 30,
              "MAX_RENDER_SIZE_BYTES": 104857600,
              "MAX_STRING_LENGTH": 250,
              "NUM_PAST_SAMPLES_TRACKED": 3,
              "RANDOM_STATE": 12648430,
              "RESET_INDEX_VALUES": false,
              "ROW_SAMPLING_METHOD": "random",
              "SAMPLING_FACTOR": 0.1,
              "SAMPLING_METHOD": "random",
              "STRINGIFY_COLUMN_VALUES": true,
              "STRINGIFY_INDEX_VALUES": false
            },
            "sample_history": [],
            "sampling_time": "2023-07-01T00:12:30.657918",
            "user_variable_name": null,
            "variable_name": "unk_dataframe_3a0134959c94466586b394846fa45bc6"
          },
          "80b47953-fc07-4288-8e15-475bea7222dd": {
            "applied_filters": [],
            "dataframe_info": {
              "default_index_used": true,
              "orig_num_cols": 7,
              "orig_num_rows": 5,
              "orig_size_bytes": 756,
              "truncated_num_cols": 7,
              "truncated_num_rows": 5,
              "truncated_size_bytes": 756,
              "truncated_string_columns": []
            },
            "display_id": "80b47953-fc07-4288-8e15-475bea7222dd",
            "dx_settings": {
              "ALLOW_NOTEABLE_ATTRS": true,
              "COLUMN_SAMPLING_METHOD": "outer",
              "DB_LOCATION": ":memory:",
              "DEV_MODE": false,
              "DISPLAY_MAX_COLUMNS": 100,
              "DISPLAY_MAX_ROWS": 50000,
              "DISPLAY_MODE": "simple",
              "ENABLE_ASSIGNMENT": true,
              "ENABLE_DATALINK": true,
              "FLATTEN_COLUMN_VALUES": true,
              "FLATTEN_INDEX_VALUES": false,
              "GENERATE_DEX_METADATA": false,
              "HTML_TABLE_SCHEMA": false,
              "LOG_LEVEL": 30,
              "MAX_RENDER_SIZE_BYTES": 104857600,
              "MAX_STRING_LENGTH": 250,
              "NUM_PAST_SAMPLES_TRACKED": 3,
              "RANDOM_STATE": 12648430,
              "RESET_INDEX_VALUES": false,
              "ROW_SAMPLING_METHOD": "random",
              "SAMPLING_FACTOR": 0.1,
              "SAMPLING_METHOD": "random",
              "STRINGIFY_COLUMN_VALUES": true,
              "STRINGIFY_INDEX_VALUES": false
            },
            "sample_history": [],
            "sampling_time": "2023-07-01T00:16:33.597690",
            "user_variable_name": null,
            "variable_name": "unk_dataframe_a7a468bc25924d2c910bb63c51d82143"
          }
        }
      },
      "execution_count": null,
      "source": "# Importing necessary libraries\nimport seaborn as sns\nimport matplotlib.pyplot as plt\n\n# Loading the 'tips' dataset from seaborn\ntips = sns.load_dataset('tips')\n\n# Displaying the first few rows of the dataset\ntips.head()",
      "outputs": []
    },
    {
      "id": "e1a009ec-b9b3-41ed-8591-164a9fa645ee",
      "cell_type": "markdown",
      "source": "The 'tips' dataset contains information about the bills paid by customers at a restaurant. The columns are as follows:\n\n- `total_bill`: Total bill (cost of the meal), including tax, in US dollars\n- `tip`: Tip (gratuity) in US dollars\n- `sex`: Sex of the person paying for the meal (0 = male, 1 = female)\n- `smoker`: Whether the party included smokers (Yes = smoker, No = non-smoker)\n- `day`: Day of the week\n- `time`: Time (Lunch or Dinner)\n- `size`: Size of the party\n\nNow, let's use the `jointplot` function to visualize the relationship between `total_bill` and `tip`.",
      "metadata": {
        "noteable": {
          "cell_type": "markdown"
        }
      }
    },
    {
      "id": "7a62f3f1-c689-4c66-bedb-ba9adc994f9d",
      "cell_type": "code",
      "metadata": {
        "noteable": {
          "cell_type": "code",
          "output_collection_id": "ae76495f-d35e-453c-9357-3be7e1fac0bc"
        },
        "ExecuteTime": {
          "end_time": "2023-07-01T00:13:12.907653+00:00",
          "start_time": "2023-07-01T00:13:11.744234+00:00"
        }
      },
      "execution_count": null,
      "source": "# Creating a jointplot\nsns.jointplot(data=tips, x='total_bill', y='tip', hue='sex', kind='hist', marginal_ticks=True, marginal_kws=dict(bins=25, fill=True, multiple='dodge'))\n\n# Displaying the plot\nplt.show()",
      "outputs": []
    },
    {
      "id": "ef0d8549-aafd-4666-bb2c-7ff3ef15e56c",
      "cell_type": "markdown",
      "source": "The `jointplot` above provides a comprehensive view of the relationship between `total_bill` and `tip`. The scatter plot in the center shows the correlation between these two variables, with each point representing a bill. The color of the points indicates the sex of the person who paid the bill. The histograms on the axes show the distribution of `total_bill` and `tip` separately, with different colors for male and female.\n\nFrom the plot, we can infer that there is a positive correlation between `total_bill` and `tip`, meaning that as the total bill increases, the tip tends to increase as well. This is expected as tips are usually a percentage of the total bill.\n\nNow, let's move on to the `pairplot` function.",
      "metadata": {
        "noteable": {
          "cell_type": "markdown"
        }
      }
    },
    {
      "id": "28d2b316-b169-4fc5-b3f9-8ae5bf8eae1f",
      "cell_type": "code",
      "metadata": {
        "noteable": {
          "cell_type": "code",
          "output_collection_id": "e812182b-1929-4c0c-a568-1d39e2ce2ca3"
        },
        "ExecuteTime": {
          "end_time": "2023-07-01T00:19:20.623471+00:00",
          "start_time": "2023-07-01T00:19:18.734607+00:00"
        }
      },
      "execution_count": null,
      "source": "# Creating a pairplot\nsns.pairplot(data=tips, corner=True)\n\n# Displaying the plot\nplt.show()",
      "outputs": []
    },
    {
      "id": "f1db9ab1-0f64-4cc2-9a21-7bcd6efe2f7e",
      "cell_type": "markdown",
      "source": "The `pairplot` above shows pairwise relationships in the dataset. The diagonal elements are histograms of the respective variables, and the off-diagonal elements are scatter plots between two variables.\n\nFrom the plot, we can see the relationships between all pairs of features. For instance, we can see a positive correlation between `total_bill` and `tip`, which we already observed in the jointplot. We can also see other relationships, such as a positive correlation between `total_bill` and `size`, and between `tip` and `size`.\n\nIn conclusion, `jointplot` and `pairplot` are powerful tools for data visualization in Python using the Seaborn library. They allow us to generate various types of plots with a single command, facilitating the exploration and analysis of data. By customizing the parameters of these functions, we can adapt the plots to our specific needs and get a more detailed view of our data.",
      "metadata": {
        "noteable": {
          "cell_type": "markdown"
        }
      }
    }
  ]
}