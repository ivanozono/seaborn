{
  "cells": [
    {
      "cell_type": "markdown",
      "source": [
        "# Seaborn\n",
        "\n",
        "Seaborn is a Python library built on top of Matplotlib, optimized to work with Pandas DataFrames. It was created by Michael Waskom and is known for its speed, ease of code writing, and high customization of graphs and visualizations."
      ],
      "metadata": {
        "noteable": {
          "cell_type": "markdown"
        }
      },
      "id": "5b06aaa7-df5c-425d-8d7e-61e26d096fe1"
    },
    {
      "cell_type": "markdown",
      "source": [
        "## Key Points: Advantages and Structure of Seaborn\n",
        "\n",
        "1. **Advantages of Seaborn**: Seaborn is appreciated for its speed, the ease of writing code, and its high customization of graphs and visualizations.\n",
        "2. **Basic Structure of Seaborn**: The basic structure of a graph in Seaborn is `sns.'Type of Graph'(data='Dataset', x='Data on the x-axis', y='Data on the y-axis', hue='Grouping Variable')`.\n",
        "3. **Types of Graphs in Seaborn**: Seaborn offers solutions to specific problems in data visualization. Some types of graphs it offers are: relplot (relational), displot (distributions), catplot (categorical)."
      ],
      "metadata": {
        "noteable": {
          "cell_type": "markdown"
        }
      },
      "id": "2280b8e2-6848-4dea-b837-2db5128e713e"
    },
    {
      "cell_type": "markdown",
      "source": [
        "## Inference in Communication\n",
        "\n",
        "Seaborn is a powerful tool for data visualization in Python. Its integration with Pandas and Matplotlib makes it ideal for working with DataFrames and creating custom visualizations. Moreover, its intuitive structure makes the creation of graphs straightforward."
      ],
      "metadata": {
        "noteable": {
          "cell_type": "markdown"
        }
      },
      "id": "c870719c-953f-4b8b-93f6-ed02ab98aea9"
    },
    {
      "cell_type": "markdown",
      "source": [
        "## Conclusion\n",
        "\n",
        "Seaborn is a Python library that facilitates data visualization, especially when working with Pandas DataFrames. Its speed, ease of use, and customization make Seaborn a valuable tool for any data scientist."
      ],
      "metadata": {
        "noteable": {
          "cell_type": "markdown"
        }
      },
      "id": "a42f5b1b-b3b4-4153-89dc-ff34d0c00461"
    }
  ],
  "metadata": {
    "noteable-chatgpt": {
      "create_notebook": {
        "openai_conversation_id": "7e7bcae5-ee0e-5cd8-9ad6-e5c7c9208efd",
        "openai_ephemeral_user_id": "6a98fc6c-5005-5d2c-acb2-0a9a336e252d",
        "openai_subdivision1_iso_code": "MX-BCN"
      }
    },
    "noteable": {
      "last_transaction_id": "3d8a8322-43d4-4d1d-beb0-a067d8f62d47",
      "last_delta_id": "3d8a8322-43d4-4d1d-beb0-a067d8f62d47"
    },
    "selected_hardware_size": "small",
    "nteract": {
      "version": "noteable@2.9.0"
    }
  },
  "nbformat": 4,
  "nbformat_minor": 5
}