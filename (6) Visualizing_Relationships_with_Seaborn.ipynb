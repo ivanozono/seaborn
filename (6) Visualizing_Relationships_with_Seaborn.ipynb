{
  "nbformat": 4,
  "nbformat_minor": 5,
  "metadata": {
    "noteable-chatgpt": {
      "create_notebook": {
        "openai_conversation_id": "843ec7f7-3c9b-5f19-95be-9b3f3544c406",
        "openai_ephemeral_user_id": "4434da37-fd4f-557b-b14b-1eae44aa4103",
        "openai_subdivision1_iso_code": "MX-BCN"
      }
    },
    "noteable": {
      "last_transaction_id": "6ad6d00a-8b74-4fb1-9725-078f9f54edb3"
    },
    "selected_hardware_size": "small"
  },
  "cells": [
    {
      "id": "2b4519a7-5a70-4fc2-a167-f6af97c4e20a",
      "cell_type": "markdown",
      "source": "# Visualizing Relationships with Seaborn\n\nIn this notebook, we will explore how to use Seaborn, a powerful Python data visualization library, to visualize relationships between numerical variables. We will be using the 'tips' dataset that comes with Seaborn, which contains information about the bills and tips at a restaurant.\n\nThe key concepts we will cover include:\n- Scatterplots\n- Lineplots\n- Relplots\n- Customizing plots with different colors and styles\n- Changing the size of plot points to represent more variables\n- Using pairplot to visualize relationships between multiple variables\n\nLet's get started!",
      "metadata": {
        "noteable": {
          "cell_type": "markdown"
        }
      }
    },
    {
      "id": "9988c2a6-7cb0-48de-a2a3-4b9b3ac471f0",
      "cell_type": "code",
      "metadata": {
        "noteable": {
          "cell_type": "code",
          "output_collection_id": "9c05a8dc-3b48-448d-9f4a-fc7399a15fd4"
        },
        "ExecuteTime": {
          "end_time": "2023-06-30T23:56:46.550080+00:00",
          "start_time": "2023-06-30T23:56:46.387120+00:00"
        }
      },
      "execution_count": null,
      "source": "# First, let's import the necessary libraries\nimport seaborn as sns\nimport matplotlib.pyplot as plt\n\n# Load the 'tips' dataset from seaborn\ntips = sns.load_dataset('tips')",
      "outputs": []
    },
    {
      "id": "d4e562cf-0817-4e15-b742-ec9507e0beb8",
      "cell_type": "markdown",
      "source": "Now that we have loaded the data, let's take a quick look at the first few rows of the dataset using the `head()` function. This will give us a better understanding of the data we're working with.",
      "metadata": {
        "noteable": {
          "cell_type": "markdown"
        }
      }
    },
    {
      "id": "7dcaa70e-fe8f-42e9-b377-5fcb005e56b2",
      "cell_type": "code",
      "metadata": {
        "noteable": {
          "cell_type": "code",
          "output_collection_id": "36a38595-764c-4cb1-9ade-273d7705261e"
        },
        "ExecuteTime": {
          "end_time": "2023-06-30T23:57:05.601241+00:00",
          "start_time": "2023-06-30T23:57:05.389619+00:00"
        },
        "datalink": {
          "db20650e-aee1-4cdd-90af-484589fb2715": {
            "applied_filters": [],
            "dataframe_info": {
              "default_index_used": true,
              "orig_num_cols": 7,
              "orig_num_rows": 5,
              "orig_size_bytes": 756,
              "truncated_num_cols": 7,
              "truncated_num_rows": 5,
              "truncated_size_bytes": 756,
              "truncated_string_columns": []
            },
            "display_id": "db20650e-aee1-4cdd-90af-484589fb2715",
            "dx_settings": {
              "ALLOW_NOTEABLE_ATTRS": true,
              "COLUMN_SAMPLING_METHOD": "outer",
              "DB_LOCATION": ":memory:",
              "DEV_MODE": false,
              "DISPLAY_MAX_COLUMNS": 100,
              "DISPLAY_MAX_ROWS": 50000,
              "DISPLAY_MODE": "simple",
              "ENABLE_ASSIGNMENT": true,
              "ENABLE_DATALINK": true,
              "FLATTEN_COLUMN_VALUES": true,
              "FLATTEN_INDEX_VALUES": false,
              "GENERATE_DEX_METADATA": false,
              "HTML_TABLE_SCHEMA": false,
              "LOG_LEVEL": 30,
              "MAX_RENDER_SIZE_BYTES": 104857600,
              "MAX_STRING_LENGTH": 250,
              "NUM_PAST_SAMPLES_TRACKED": 3,
              "RANDOM_STATE": 12648430,
              "RESET_INDEX_VALUES": false,
              "ROW_SAMPLING_METHOD": "random",
              "SAMPLING_FACTOR": 0.1,
              "SAMPLING_METHOD": "random",
              "STRINGIFY_COLUMN_VALUES": true,
              "STRINGIFY_INDEX_VALUES": false
            },
            "sample_history": [],
            "sampling_time": "2023-06-30T23:53:25.592638",
            "user_variable_name": null,
            "variable_name": "unk_dataframe_ff2b538c464b4072a4b282b5150dba8c"
          },
          "d14d7b6e-d62e-40b0-a3dc-fcb86900436c": {
            "applied_filters": [],
            "dataframe_info": {
              "default_index_used": true,
              "orig_num_cols": 7,
              "orig_num_rows": 5,
              "orig_size_bytes": 756,
              "truncated_num_cols": 7,
              "truncated_num_rows": 5,
              "truncated_size_bytes": 756,
              "truncated_string_columns": []
            },
            "display_id": "d14d7b6e-d62e-40b0-a3dc-fcb86900436c",
            "dx_settings": {
              "ALLOW_NOTEABLE_ATTRS": true,
              "COLUMN_SAMPLING_METHOD": "outer",
              "DB_LOCATION": ":memory:",
              "DEV_MODE": false,
              "DISPLAY_MAX_COLUMNS": 100,
              "DISPLAY_MAX_ROWS": 50000,
              "DISPLAY_MODE": "simple",
              "ENABLE_ASSIGNMENT": true,
              "ENABLE_DATALINK": true,
              "FLATTEN_COLUMN_VALUES": true,
              "FLATTEN_INDEX_VALUES": false,
              "GENERATE_DEX_METADATA": false,
              "HTML_TABLE_SCHEMA": false,
              "LOG_LEVEL": 30,
              "MAX_RENDER_SIZE_BYTES": 104857600,
              "MAX_STRING_LENGTH": 250,
              "NUM_PAST_SAMPLES_TRACKED": 3,
              "RANDOM_STATE": 12648430,
              "RESET_INDEX_VALUES": false,
              "ROW_SAMPLING_METHOD": "random",
              "SAMPLING_FACTOR": 0.1,
              "SAMPLING_METHOD": "random",
              "STRINGIFY_COLUMN_VALUES": true,
              "STRINGIFY_INDEX_VALUES": false
            },
            "sample_history": [],
            "sampling_time": "2023-06-30T23:57:05.443505",
            "user_variable_name": null,
            "variable_name": "unk_dataframe_7622b3bf8dda4c85980b523f61804544"
          }
        }
      },
      "execution_count": null,
      "source": "# Display the first few rows of the dataset\ntips.head()",
      "outputs": []
    },
    {
      "id": "45b8072f-7e6b-4ec5-a5e7-b654d9353d6d",
      "cell_type": "markdown",
      "source": "The 'tips' dataset contains seven columns:\n\n- `total_bill`: the total bill amount\n- `tip`: the tip amount\n- `sex`: the gender of the person paying the bill\n- `smoker`: whether the person is a smoker or not\n- `day`: the day of the week\n- `time`: whether the meal was lunch or dinner\n- `size`: the size of the party\n\nNow, let's start with creating a scatterplot to visualize the relationship between the total bill and the tip amount.",
      "metadata": {
        "noteable": {
          "cell_type": "markdown"
        }
      }
    },
    {
      "id": "19c024fd-94ba-4a11-952e-797364b5f58f",
      "cell_type": "code",
      "metadata": {
        "noteable": {
          "cell_type": "code",
          "output_collection_id": "387c7d8f-5c2d-4d7c-8813-a6cedd30ec90"
        },
        "ExecuteTime": {
          "end_time": "2023-06-30T23:57:36.220290+00:00",
          "start_time": "2023-06-30T23:57:35.805230+00:00"
        }
      },
      "execution_count": null,
      "source": "# Create a scatterplot\nsns.scatterplot(data=tips, x='total_bill', y='tip')\n\n# Set the title of the plot\nplt.title('Scatterplot of Total Bill and Tip Amount')\n\n# Display the plot\nplt.show()",
      "outputs": []
    },
    {
      "id": "f1e9857e-3ca3-4f42-ad57-a69f9e7d0ead",
      "cell_type": "markdown",
      "source": "From the scatterplot, we can see that there seems to be a positive correlation between the total bill and the tip amount. As the total bill increases, the tip amount also tends to increase. This makes sense as people usually tip a percentage of the total bill.\n\nNext, let's customize the scatterplot by adding different colors for different days of the week. This will allow us to see if there's any difference in the relationship between total bill and tip amount on different days.",
      "metadata": {
        "noteable": {
          "cell_type": "markdown"
        }
      }
    },
    {
      "id": "91d97bf5-7ea0-4de7-80ac-ad3f92ae1146",
      "cell_type": "code",
      "metadata": {
        "noteable": {
          "cell_type": "code",
          "output_collection_id": "4101531a-ebba-4680-be77-6e081bb2720e"
        },
        "ExecuteTime": {
          "end_time": "2023-06-30T23:58:15.919143+00:00",
          "start_time": "2023-06-30T23:58:15.358151+00:00"
        }
      },
      "execution_count": null,
      "source": "# Create a scatterplot with different colors for different days\nsns.scatterplot(data=tips, x='total_bill', y='tip', hue='day')\n\n# Set the title of the plot\nplt.title('Scatterplot of Total Bill and Tip Amount with Different Colors for Different Days')\n\n# Display the plot\nplt.show()",
      "outputs": []
    },
    {
      "id": "555b6d34-357d-4b99-a404-8ce95c13a21f",
      "cell_type": "markdown",
      "source": "The scatterplot now shows different colors for different days of the week. We can see that the positive correlation between total bill and tip amount seems to hold true for all days. However, it's hard to see any clear differences between the days. Perhaps we can gain more insights by changing the style of the points to represent whether the meal was lunch or dinner.",
      "metadata": {
        "noteable": {
          "cell_type": "markdown"
        }
      }
    },
    {
      "id": "546c4128-9b98-4a6a-a89f-44c73593be0a",
      "cell_type": "code",
      "metadata": {
        "noteable": {
          "cell_type": "code",
          "output_collection_id": "22749010-acc1-4d68-bc2d-4307e0b66832"
        },
        "ExecuteTime": {
          "end_time": "2023-06-30T23:59:09.430317+00:00",
          "start_time": "2023-06-30T23:59:08.689398+00:00"
        }
      },
      "execution_count": null,
      "source": "# Create a scatterplot with different colors for different days and different styles for lunch and dinner\nsns.scatterplot(data=tips, x='total_bill', y='tip', hue='day', style='time')\n\n# Set the title of the plot\nplt.title('Scatterplot of Total Bill and Tip Amount with Different Styles for Lunch and Dinner')\n\n# Display the plot\nplt.show()",
      "outputs": []
    },
    {
      "id": "383062d1-11a7-4859-92d4-c1cfed593317",
      "cell_type": "markdown",
      "source": "Now the scatterplot shows different styles for lunch and dinner. We can see that most of the meals are dinners. However, it's still hard to see any clear differences between lunch and dinner or between different days of the week. Perhaps we can gain more insights by changing the size of the points to represent the size of the party.",
      "metadata": {
        "noteable": {
          "cell_type": "markdown"
        }
      }
    },
    {
      "id": "7fa4fc8c-c186-4579-a343-e03cb5dd2b14",
      "cell_type": "code",
      "metadata": {
        "noteable": {
          "cell_type": "code",
          "output_collection_id": "94a65543-560c-4c54-96a8-cd9e73d79f99"
        },
        "ExecuteTime": {
          "end_time": "2023-06-30T23:55:08.860286+00:00",
          "start_time": "2023-06-30T23:55:08.077581+00:00"
        }
      },
      "execution_count": null,
      "source": "# Create a scatterplot with different colors for different days, different styles for lunch and dinner, and different sizes for the size of the party\nsns.scatterplot(data=tips, x='total_bill', y='tip', hue='day', style='time', size='size')\n\n# Set the title of the plot\nplt.title('Scatterplot of Total Bill and Tip Amount with Different Sizes for the Size of the Party')\n\n# Display the plot\nplt.show()",
      "outputs": []
    },
    {
      "id": "4f2244ba-a19b-4b18-a62e-6206eb275b9b",
      "cell_type": "markdown",
      "source": "Now the scatterplot shows different sizes for the size of the party. We can see that larger parties tend to have higher total bills, which makes sense as more people would likely order more food. However, the relationship between the size of the party and the tip amount is not as clear. It seems that larger parties do not necessarily give higher tips.\n\nFinally, let's use a pairplot to visualize relationships between multiple variables at once.",
      "metadata": {
        "noteable": {
          "cell_type": "markdown"
        }
      }
    },
    {
      "id": "f61ffb72-a288-4c7f-af71-438747c87f0e",
      "cell_type": "code",
      "metadata": {
        "noteable": {
          "cell_type": "code",
          "output_collection_id": "1e808b32-eca1-49b1-9f02-c67b6f3db8b2"
        },
        "ExecuteTime": {
          "end_time": "2023-06-30T23:55:37.296799+00:00",
          "start_time": "2023-06-30T23:55:33.875620+00:00"
        }
      },
      "execution_count": null,
      "source": "# Create a pairplot\nsns.pairplot(tips, hue='day')\n\n# Display the plot\nplt.show()",
      "outputs": []
    },
    {
      "id": "debbdc9d-874f-4df5-9dda-a4d99b84a6cf",
      "cell_type": "markdown",
      "source": "The pairplot shows scatterplots for each pair of numerical variables and histograms for each individual numerical variable. We can see that the positive correlation between total bill and tip amount is consistent across all days of the week. However, the relationship between the size of the party and the tip amount is not as clear.\n\nIn conclusion, Seaborn provides a powerful and flexible way to visualize relationships between numerical variables. By customizing the colors, styles, and sizes of the plot points, we can represent multiple variables in a single plot and gain deeper insights into our data.",
      "metadata": {
        "noteable": {
          "cell_type": "markdown"
        }
      }
    }
  ]
}