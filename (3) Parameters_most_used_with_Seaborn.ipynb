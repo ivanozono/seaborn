{
  "nbformat": 4,
  "nbformat_minor": 5,
  "metadata": {
    "noteable-chatgpt": {
      "create_notebook": {
        "openai_conversation_id": "7e7bcae5-ee0e-5cd8-9ad6-e5c7c9208efd",
        "openai_ephemeral_user_id": "6a98fc6c-5005-5d2c-acb2-0a9a336e252d",
        "openai_subdivision1_iso_code": "MX-BCN"
      }
    },
    "noteable": {
      "last_transaction_id": "2af2a42d-82d0-4eed-9a3b-4e2b4454ad31"
    },
    "selected_hardware_size": "small"
  },
  "cells": [
    {
      "id": "3f475da9-a6af-4253-b61a-dd9a186f5fdc",
      "cell_type": "markdown",
      "source": "# Parameters Most Used with Seaborn\n\nSeaborn is a Python data visualization library based on matplotlib. It provides a high-level interface for drawing attractive and informative statistical graphics. In this notebook, we will explore some of the most commonly used parameters in Seaborn.\n\nThis notebook is based on a lesson from the Course of Data Visualization with Matplotlib and Seaborn on Platzi. The original lesson can be found [here](https://platzi.com/clases/2913-matplotlib-seaborn/47948-parametros-mas-usados-con-seaborn/).\n\nWe will cover the following topics:\n1. Importing libraries and data\n2. Creating plots\n3. Using multiple variables\n4. Customizing plots",
      "metadata": {
        "noteable": {
          "cell_type": "markdown"
        }
      }
    },
    {
      "id": "d4e251e9-eb57-4335-ab48-249897dbea75",
      "cell_type": "code",
      "metadata": {
        "noteable": {
          "cell_type": "code",
          "output_collection_id": "f1073002-7155-43fd-b309-ce3471482397"
        },
        "ExecuteTime": {
          "end_time": "2023-06-29T04:11:36.160290+00:00",
          "start_time": "2023-06-29T04:11:34.864658+00:00"
        },
        "datalink": {
          "8a85adcb-9133-4281-8848-749987508ca0": {
            "applied_filters": [],
            "dataframe_info": {
              "default_index_used": true,
              "orig_num_cols": 7,
              "orig_num_rows": 5,
              "orig_size_bytes": 756,
              "truncated_num_cols": 7,
              "truncated_num_rows": 5,
              "truncated_size_bytes": 756,
              "truncated_string_columns": []
            },
            "display_id": "8a85adcb-9133-4281-8848-749987508ca0",
            "dx_settings": {
              "ALLOW_NOTEABLE_ATTRS": true,
              "COLUMN_SAMPLING_METHOD": "outer",
              "DB_LOCATION": ":memory:",
              "DEV_MODE": false,
              "DISPLAY_MAX_COLUMNS": 100,
              "DISPLAY_MAX_ROWS": 50000,
              "DISPLAY_MODE": "simple",
              "ENABLE_ASSIGNMENT": true,
              "ENABLE_DATALINK": true,
              "FLATTEN_COLUMN_VALUES": true,
              "FLATTEN_INDEX_VALUES": false,
              "GENERATE_DEX_METADATA": false,
              "HTML_TABLE_SCHEMA": false,
              "LOG_LEVEL": 30,
              "MAX_RENDER_SIZE_BYTES": 104857600,
              "MAX_STRING_LENGTH": 250,
              "NUM_PAST_SAMPLES_TRACKED": 3,
              "RANDOM_STATE": 12648430,
              "RESET_INDEX_VALUES": false,
              "ROW_SAMPLING_METHOD": "random",
              "SAMPLING_FACTOR": 0.1,
              "SAMPLING_METHOD": "random",
              "STRINGIFY_COLUMN_VALUES": true,
              "STRINGIFY_INDEX_VALUES": false
            },
            "sample_history": [],
            "sampling_time": "2023-06-29T04:11:36.002308",
            "user_variable_name": null,
            "variable_name": "unk_dataframe_042b9a1d34f04695a2389b4aa83c9679"
          }
        }
      },
      "execution_count": null,
      "source": "# Importing libraries\nimport seaborn as sns\nimport matplotlib.pyplot as plt\n\n# Loading the 'tips' dataset\ntips = sns.load_dataset('tips')\n\n# Displaying the first few rows of the dataset\ntips.head()",
      "outputs": []
    },
    {
      "id": "6001a59e-9721-4730-9395-dfb19b62c4b0",
      "cell_type": "markdown",
      "source": "## Creating Plots\n\nSeaborn offers a variety of plots to visualize data. One of the most common plots is the distribution plot (`displot`), which is used to visualize the distribution of a variable.\n\nLet's create a distribution plot for the `total_bill` column in our dataset.",
      "metadata": {
        "noteable": {
          "cell_type": "markdown"
        }
      }
    },
    {
      "id": "5624e1b7-3c1f-4ce4-bd0a-462a0c4ef9fe",
      "cell_type": "code",
      "metadata": {
        "noteable": {
          "cell_type": "code",
          "output_collection_id": "2649055c-ca45-4445-a460-bfda0efc44cf"
        },
        "ExecuteTime": {
          "end_time": "2023-06-29T04:12:32.355861+00:00",
          "start_time": "2023-06-29T04:12:31.638047+00:00"
        }
      },
      "execution_count": null,
      "source": "# Creating a distribution plot for the 'total_bill' column\nsns.displot(data=tips, x='total_bill')\n\n# Displaying the plot\nplt.show()",
      "outputs": []
    },
    {
      "id": "859b50ec-7fb2-4efe-8f45-c1b5aa7c2ddd",
      "cell_type": "markdown",
      "source": "## Using Multiple Variables\n\nSeaborn allows for the inclusion of multiple variables in a plot. For instance, we can use both the `total_bill` and `tip` variables on the x and y axes respectively.\n\nLet's create a distribution plot using both these variables.",
      "metadata": {
        "noteable": {
          "cell_type": "markdown"
        }
      }
    },
    {
      "id": "f6879627-b917-4992-aed9-51e6b0be2fdd",
      "cell_type": "code",
      "metadata": {
        "noteable": {
          "cell_type": "code",
          "output_collection_id": "2e632ea3-b433-48c0-95a8-190c4ac5b2f8"
        },
        "ExecuteTime": {
          "end_time": "2023-06-29T04:13:34.925746+00:00",
          "start_time": "2023-06-29T04:13:34.357098+00:00"
        }
      },
      "execution_count": null,
      "source": "# Creating a distribution plot for the 'total_bill' and 'tip' columns\nsns.displot(data=tips, x='total_bill', y='tip')\n\n# Displaying the plot\nplt.show()",
      "outputs": []
    },
    {
      "id": "3e6b0510-f305-4e18-a2da-36d6a44ecbbd",
      "cell_type": "markdown",
      "source": "## Customizing Plots\n\nSeaborn provides parameters to customize plots, such as 'hue' for grouping by another variable, 'kind' to change the plot type, 'legend' to show/hide the legend, 'palette' to change the color palette, and 'alpha' to adjust the transparency.\n\nLet's create a plot using these parameters.",
      "metadata": {
        "noteable": {
          "cell_type": "markdown"
        }
      }
    },
    {
      "id": "46a752c8-0542-4109-800b-bb55e425f862",
      "cell_type": "code",
      "metadata": {
        "noteable": {
          "cell_type": "code",
          "output_collection_id": "1ea9ba4c-d025-41dd-b357-d2c106395aa9"
        },
        "ExecuteTime": {
          "end_time": "2023-06-29T04:14:08.705305+00:00",
          "start_time": "2023-06-29T04:14:07.862392+00:00"
        }
      },
      "execution_count": null,
      "source": "# Creating a plot with custom parameters\nsns.displot(data=tips, x='total_bill', hue='sex', kind='kde', legend=True, palette='dark', alpha=0.5)\n\n# Displaying the plot\nplt.show()",
      "outputs": []
    },
    {
      "id": "2da64c30-e5f9-4de3-9b07-e0a68ab533da",
      "cell_type": "markdown",
      "source": "## Conclusion\n\nSeaborn is a powerful tool for data visualization in Python. It offers a wide variety of plots and parameters to customize them, allowing users to explore and present their data effectively. With Seaborn, it's possible to create complex plots with just a few lines of code, facilitating data analysis and data-driven decision making.\n\nIn this notebook, we've seen how to create distribution plots, use multiple variables in a plot, and customize plots using various parameters. These are just a few of the many capabilities of Seaborn. For more information, check out the [official Seaborn documentation](https://seaborn.pydata.org/).",
      "metadata": {
        "noteable": {
          "cell_type": "markdown"
        }
      }
    }
  ]
}